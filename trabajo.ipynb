{
 "cells": [
  {
   "cell_type": "code",
   "execution_count": null,
   "metadata": {},
   "outputs": [
    {
     "name": "stdout",
     "output_type": "stream",
     "text": [
      "El número es mayor que 10\n"
     ]
    }
   ],
   "source": [
    "#1\n",
    "numero = float(input(\"Ingrese un número: \"))\n",
    "if numero > 10:\n",
    "    print(\"El número es mayor que 10\")\n",
    "else:\n",
    "    print(\"El numero es menor que 10\")"
   ]
  },
  {
   "cell_type": "code",
   "execution_count": null,
   "metadata": {},
   "outputs": [],
   "source": [
    "#2\n",
    "numero = float(input(\"Ingrese un número: \"))\n",
    "if numero > 0:\n",
    "    print(\"El número es positivo\")\n",
    "else:\n",
    "    print(\"El numero es negativo\")"
   ]
  },
  {
   "cell_type": "code",
   "execution_count": 16,
   "metadata": {},
   "outputs": [
    {
     "name": "stdout",
     "output_type": "stream",
     "text": [
      "Clave_no_valida\n"
     ]
    }
   ],
   "source": [
    "#3\n",
    "contraseña = input(\"Ingrese la contraseña: \")\n",
    "if contraseña == \"secreto\":\n",
    "    print(\"Acceso concedido\")\n",
    "else:\n",
    "    print(\"Clave_no_valida\")"
   ]
  },
  {
   "cell_type": "code",
   "execution_count": null,
   "metadata": {},
   "outputs": [],
   "source": [
    "#4\n",
    "num1 = float(input(\"Ingrese el primer número: \"))\n",
    "num2 = float(input(\"Ingrese el segundo número: \"))\n",
    "if num1 > num2:\n",
    "    print(\"El primer número es mayor\")\n",
    "else:\n",
    "    print(\"El segundo número es mayor o igual\")"
   ]
  },
  {
   "cell_type": "code",
   "execution_count": 17,
   "metadata": {},
   "outputs": [
    {
     "name": "stdout",
     "output_type": "stream",
     "text": [
      "Es una vocal\n"
     ]
    }
   ],
   "source": [
    "#5\n",
    "letra = input(\"Ingrese una letra: \")\n",
    "if letra in ['a', 'e', 'i', 'o', 'u']:\n",
    "    print(\"Es una vocal\")\n",
    "else:\n",
    "    print(\"Es una consonante\")"
   ]
  },
  {
   "cell_type": "code",
   "execution_count": null,
   "metadata": {},
   "outputs": [],
   "source": [
    "#6\n",
    "meses = {\n",
    "    1: \"Enero\", 2: \"Febrero\", 3: \"Marzo\", 4: \"Abril\",\n",
    "    5: \"Mayo\", 6: \"Junio\", 7: \"Julio\", 8: \"Agosto\",\n",
    "    9: \"Septiembre\", 10: \"Octubre\", 11: \"Noviembre\", 12: \"Diciembre\"\n",
    "}\n",
    "\n",
    "numero = int(input(\"Ingrese un número del 1 al 12: \"))\n",
    "if 1 <= numero <= 12:\n",
    "    print(meses[numero])\n",
    "else:\n",
    "    print(\"Mes inválido\")"
   ]
  },
  {
   "cell_type": "code",
   "execution_count": null,
   "metadata": {},
   "outputs": [],
   "source": [
    "#7\n",
    "edad = int(input(\"Ingrese su edad: \"))\n",
    "genero = input(\"Ingrese su género (M o F): \").upper()\n",
    "\n",
    "if (genero == 'M' and edad >= 65) or (genero == 'F' and edad >= 60):\n",
    "    print(\"Eres elegible para la jubilación\")\n",
    "else:\n",
    "    print(\"No eres elegible para la jubilación\")"
   ]
  }
 ],
 "metadata": {
  "kernelspec": {
   "display_name": "Python 3",
   "language": "python",
   "name": "python3"
  },
  "language_info": {
   "codemirror_mode": {
    "name": "ipython",
    "version": 3
   },
   "file_extension": ".py",
   "mimetype": "text/x-python",
   "name": "python",
   "nbconvert_exporter": "python",
   "pygments_lexer": "ipython3",
   "version": "3.13.2"
  }
 },
 "nbformat": 4,
 "nbformat_minor": 2
}
