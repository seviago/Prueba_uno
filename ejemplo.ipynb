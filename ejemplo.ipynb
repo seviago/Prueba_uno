{
 "cells": [
  {
   "cell_type": "code",
   "execution_count": null,
   "metadata": {},
   "outputs": [
    {
     "name": "stdout",
     "output_type": "stream",
     "text": [
      "Inicio de programa\n"
     ]
    }
   ],
   "source": [
    "print(\"Inicio de programa\")\n",
    "\n",
    "x = int(input(\"Valor x :\"))  \n",
    "y = int(input(\"Valor y :\"))\n",
    "z = int(input(\"Valor z :\"))\n",
    "\n",
    "x2 =int(input(\"Valor x2 :\"))\n",
    "y2 =int(input(\"Valor y2 :\"))\n",
    "z2 =int(input(\"Valor z3 :\"))\n",
    "\n",
    "\n",
    "print(\"Vector 1 :\")   \n",
    "\n",
    "print(\" x\",\":\",x)\n",
    "print(\" y\",\":\",y)\n",
    "print(\" z\",\":\",z)\n",
    "\n",
    "\n",
    "print(\"Vector 2 :\")\n",
    "print(\" x2\",\":\",x2)\n",
    "print(\" y2\",\":\",y2)\n",
    "print(\" z3\",\":\",z2)\n",
    "\n",
    "print(\"la suma de los vectores da:\")\n",
    "\n",
    "print(\" x3\",\":\",x+x2)\n",
    "print(\" y3\",\":\",y+y2)\n",
    "print(\" z3\",\":\",z+z2)\n",
    "\n",
    "\n",
    "print(\"la resta de los vectores da:\")\n",
    "\n",
    "print(\" x3\",\":\",x-x2)\n",
    "print(\" y3\",\":\",y-y2)\n",
    "print(\" z3\",\":\",z-z2)\n",
    "\n",
    "print(\"la multiplicacion punto de los vectores da:\")\n",
    "\n",
    "print(\" Valor\",\":\",(x*x2)+(y*y2)+(z*z2))\n"
   ]
  }
 ],
 "metadata": {
  "kernelspec": {
   "display_name": "Python 3",
   "language": "python",
   "name": "python3"
  },
  "language_info": {
   "codemirror_mode": {
    "name": "ipython",
    "version": 3
   },
   "file_extension": ".py",
   "mimetype": "text/x-python",
   "name": "python",
   "nbconvert_exporter": "python",
   "pygments_lexer": "ipython3",
   "version": "3.13.2"
  }
 },
 "nbformat": 4,
 "nbformat_minor": 2
}
